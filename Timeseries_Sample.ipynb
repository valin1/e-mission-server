{
 "cells": [
  {
   "cell_type": "markdown",
   "metadata": {},
   "source": [
    "In order to run this notebook with the correct PYTHONPATH, you can use\n",
    "```\n",
    "$ ./e-mission-jupyter.bash notebook\n",
    "```"
   ]
  },
  {
   "cell_type": "markdown",
   "metadata": {},
   "source": [
    "This notebook makes heavy use of the following python libraries.\n",
    "- `pandas`: from the python computing stack (http://pandas.pydata.org/pandas-docs/stable/)\n",
    "- `geojson`: standard JSON representation of geographic data (http://geojson.org/)\n",
    "- `folium`: (https://github.com/python-visualization/folium) python bridge to leaflet (http://leafletjs.com/)"
   ]
  },
  {
   "cell_type": "markdown",
   "metadata": {},
   "source": [
    "### Pick a user to work with ###"
   ]
  },
  {
   "cell_type": "code",
   "execution_count": 1,
   "metadata": {},
   "outputs": [
    {
     "name": "stdout",
     "output_type": "stream",
     "text": [
      "storage not configured, falling back to sample, default configuration\n",
      "Connecting to database URL localhost\n"
     ]
    },
    {
     "data": {
      "text/html": [
       "<div>\n",
       "<style>\n",
       "    .dataframe thead tr:only-child th {\n",
       "        text-align: right;\n",
       "    }\n",
       "\n",
       "    .dataframe thead th {\n",
       "        text-align: left;\n",
       "    }\n",
       "\n",
       "    .dataframe tbody tr th {\n",
       "        vertical-align: top;\n",
       "    }\n",
       "</style>\n",
       "<table border=\"1\" class=\"dataframe\">\n",
       "  <thead>\n",
       "    <tr style=\"text-align: right;\">\n",
       "      <th></th>\n",
       "      <th>user_email</th>\n",
       "      <th>uuid</th>\n",
       "    </tr>\n",
       "  </thead>\n",
       "  <tbody>\n",
       "    <tr>\n",
       "      <th>0</th>\n",
       "      <td>emma</td>\n",
       "      <td>77dad2b8-ab85-40d1-a741-2c5d7c578ac5</td>\n",
       "    </tr>\n",
       "    <tr>\n",
       "      <th>1</th>\n",
       "      <td>bill</td>\n",
       "      <td>b7e58f40-8e5d-4a21-82ac-5a90dce44647</td>\n",
       "    </tr>\n",
       "    <tr>\n",
       "      <th>2</th>\n",
       "      <td>sam</td>\n",
       "      <td>a011258d-fb21-4e23-bc05-03777ea8ea72</td>\n",
       "    </tr>\n",
       "    <tr>\n",
       "      <th>3</th>\n",
       "      <td>shankari</td>\n",
       "      <td>7a0359dc-a208-4224-9a1e-441224860927</td>\n",
       "    </tr>\n",
       "    <tr>\n",
       "      <th>4</th>\n",
       "      <td>test_user_1</td>\n",
       "      <td>9a9b2074-ed61-468a-935c-8362adc57873</td>\n",
       "    </tr>\n",
       "    <tr>\n",
       "      <th>5</th>\n",
       "      <td>car_user</td>\n",
       "      <td>ddfcca5c-d5c9-43de-8056-c3a2aa27d0a7</td>\n",
       "    </tr>\n",
       "  </tbody>\n",
       "</table>\n",
       "</div>"
      ],
      "text/plain": [
       "    user_email                                  uuid\n",
       "0         emma  77dad2b8-ab85-40d1-a741-2c5d7c578ac5\n",
       "1         bill  b7e58f40-8e5d-4a21-82ac-5a90dce44647\n",
       "2          sam  a011258d-fb21-4e23-bc05-03777ea8ea72\n",
       "3     shankari  7a0359dc-a208-4224-9a1e-441224860927\n",
       "4  test_user_1  9a9b2074-ed61-468a-935c-8362adc57873\n",
       "5     car_user  ddfcca5c-d5c9-43de-8056-c3a2aa27d0a7"
      ]
     },
     "execution_count": 1,
     "metadata": {},
     "output_type": "execute_result"
    }
   ],
   "source": [
    "import emission.core.get_database as edb\n",
    "import pandas as pd\n",
    "all_users = pd.DataFrame(list(edb.get_uuid_db().find({}, {\"user_email\":1, \"uuid\": 1, \"_id\": 0})))\n",
    "all_users"
   ]
  },
  {
   "cell_type": "code",
   "execution_count": 2,
   "metadata": {
    "collapsed": true
   },
   "outputs": [],
   "source": [
    "from uuid import UUID"
   ]
  },
  {
   "cell_type": "code",
   "execution_count": 3,
   "metadata": {
    "collapsed": true
   },
   "outputs": [],
   "source": [
    "test_user_id = all_users.iloc[5].uuid # replace with UUID from above"
   ]
  },
  {
   "cell_type": "markdown",
   "metadata": {},
   "source": [
    "If you want to work across multiple users, just do the same thing again"
   ]
  },
  {
   "cell_type": "code",
   "execution_count": 4,
   "metadata": {
    "collapsed": true
   },
   "outputs": [],
   "source": [
    "test_user_id_2 = all_users.iloc[2].uuid"
   ]
  },
  {
   "cell_type": "markdown",
   "metadata": {},
   "source": [
    "### Preferred access technique"
   ]
  },
  {
   "cell_type": "markdown",
   "metadata": {},
   "source": [
    "The preferred technique to access wrapper objects from the timeseries is to use the abstract timeseries interface. This makes it easier for us to switch to alternative timeseries implementations later. The timeseries is conceptually a set of streams, one for each of the types, primarily indexed by time. So you can query for all entries of a particular time within a specified time range."
   ]
  },
  {
   "cell_type": "code",
   "execution_count": 5,
   "metadata": {},
   "outputs": [],
   "source": [
    "import emission.storage.timeseries.abstract_timeseries as esta\n",
    "import emission.storage.decorations.analysis_timeseries_queries as esda\n",
    "import emission.core.wrapper.entry as ecwe\n",
    "import emission.storage.decorations.trip_queries as esdt\n",
    "import emission.storage.timeseries.timequery as estt\n",
    "import emission.core.wrapper.suggestion_sys as sug"
   ]
  },
  {
   "cell_type": "code",
   "execution_count": 6,
   "metadata": {},
   "outputs": [
    {
     "name": "stdout",
     "output_type": "stream",
     "text": [
      "ddfcca5c-d5c9-43de-8056-c3a2aa27d0a7 a011258d-fb21-4e23-bc05-03777ea8ea72\n"
     ]
    }
   ],
   "source": [
    "print(test_user_id, test_user_id_2)\n",
    "ts = esta.TimeSeries.get_time_series(test_user_id)\n",
    "ts_2 = esta.TimeSeries.get_time_series(test_user_id_2)"
   ]
  },
  {
   "cell_type": "markdown",
   "metadata": {},
   "source": [
    "#### Accessing entries directly"
   ]
  },
  {
   "cell_type": "code",
   "execution_count": 7,
   "metadata": {
    "collapsed": true
   },
   "outputs": [],
   "source": [
    "# Get all cleaned trips for the first user\n",
    "entry_it = ts.find_entries([\"analysis/cleaned_trip\"], time_query=None)"
   ]
  },
  {
   "cell_type": "markdown",
   "metadata": {},
   "source": [
    "All keys and their mapping to data model objects can be found in \n",
    "https://github.com/e-mission/e-mission-server/blob/master/emission/core/wrapper/entry.py"
   ]
  },
  {
   "cell_type": "code",
   "execution_count": null,
   "metadata": {},
   "outputs": [],
   "source": [
    "\n",
    "for ct in entry_it:\n",
    "    cte = ecwe.Entry(ct)\n",
    "    print(\"=== Trip Time:\", cte.data.start_fmt_time, \"->\", cte.data.end_fmt_time)\n",
    "    print(cte.data.start_loc)\n",
    "    print(cte.data.end_loc)\n",
    "    print(\"  --- Section:\", sug.return_address_from_location_yelp(sug.geojson_to_latlon(cte.data.start_loc)), \"->\", sug.return_address_from_location_yelp(sug.geojson_to_latlon(cte.data.end_loc)), \" on \")\n",
    "    "
   ]
  },
  {
   "cell_type": "code",
   "execution_count": 8,
   "metadata": {},
   "outputs": [
    {
     "name": "stdout",
     "output_type": "stream",
     "text": [
      "TimeSeries\n",
      "<emission.storage.timeseries.builtin_timeseries.BuiltinTimeSeries object at 0x111bd66a0>\n",
      "Real Cleaned Sections\n",
      "                         _id           cleaned_section     distance  \\\n",
      "0   5bc6a2f543de75fa8e9b2621  5bc6a2f343de75fa8e9b256a     0.000000   \n",
      "1   5bc6a2f543de75fa8e9b2623  5bc6a2f343de75fa8e9b256c   430.177072   \n",
      "2   5bc6a2f543de75fa8e9b2625  5bc6a2f343de75fa8e9b2582   115.642928   \n",
      "3   5bc6a2f543de75fa8e9b2627  5bc6a2f343de75fa8e9b2591   400.670920   \n",
      "4   5bc6a2f543de75fa8e9b2629  5bc6a2f343de75fa8e9b2596   930.283308   \n",
      "5   5bc6a2f543de75fa8e9b262b  5bc6a2f343de75fa8e9b25a2     0.000000   \n",
      "6   5bc6a2f543de75fa8e9b262d  5bc6a2f443de75fa8e9b25a8   741.511871   \n",
      "7   5bc6a2f543de75fa8e9b262f  5bc6a2f443de75fa8e9b25c8   503.981547   \n",
      "8   5bc6a2f543de75fa8e9b2631  5bc6a2f443de75fa8e9b25da  1923.151397   \n",
      "9   5bc6a2f543de75fa8e9b2633  5bc6a2f443de75fa8e9b25e9  2603.703074   \n",
      "10  5bc6a2f543de75fa8e9b2635  5bc6a2f443de75fa8e9b25f9     0.000000   \n",
      "11  5bc6a2f543de75fa8e9b2637  5bc6a2f443de75fa8e9b25fe   652.873191   \n",
      "\n",
      "                                            distances    duration  \\\n",
      "0                                               [0.0]    0.000000   \n",
      "1   [0.0, 14.769010648665068, 14.769010688324284, ...  491.002630   \n",
      "2   [0.0, 29.000543706889435, 15.312137677629549, ...  303.202600   \n",
      "3   [0.0, 147.54863707373764, 154.67711181897693, ...   80.984006   \n",
      "4   [0.0, 149.2079034477404, 68.46604424893526, 27...  270.997102   \n",
      "5                                               [0.0]    0.000000   \n",
      "6   [0.0, 39.16963459695814, 39.16969607483653, 39...  811.454176   \n",
      "7   [0.0, 36.11065161093897, 36.110634311004645, 3...  401.380139   \n",
      "8   [0.0, 301.7464530598916, 169.05259091663788, 2...  320.996800   \n",
      "9   [0.0, 291.8645648928967, 238.39817231080994, 2...  409.774777   \n",
      "10                                              [0.0]    0.000000   \n",
      "11  [0.0, 35.820052911863776, 35.82008417809829, 3...  536.504247   \n",
      "\n",
      "                        end_fmt_time  \\\n",
      "0   2018-10-07T00:00:24.999193-07:00   \n",
      "1   2018-10-07T00:13:16.998626-07:00   \n",
      "2   2018-10-07T00:44:00.954806-07:00   \n",
      "3   2018-10-07T02:07:40.994109-07:00   \n",
      "4   2018-10-07T02:12:22.991093-07:00   \n",
      "5   2018-10-07T02:13:46.996559-07:00   \n",
      "6   2018-10-07T13:11:25.992288-07:00   \n",
      "7   2018-10-07T14:03:41.996415-07:00   \n",
      "8   2018-10-07T17:56:45.998821-07:00   \n",
      "9   2018-10-07T19:02:14.995222-07:00   \n",
      "10  2018-10-07T19:03:58.996375-07:00   \n",
      "11  2018-10-07T19:40:43.997208-07:00   \n",
      "\n",
      "                                              end_loc  end_local_dt_day  \\\n",
      "0   {'type': 'Point', 'coordinates': [-122.2525342...                 7   \n",
      "1   {'type': 'Point', 'coordinates': [-122.2511685...                 7   \n",
      "2   {'type': 'Point', 'coordinates': [-122.2512967...                 7   \n",
      "3   {'type': 'Point', 'coordinates': [-122.2475067...                 7   \n",
      "4   {'type': 'Point', 'coordinates': [-122.2506471...                 7   \n",
      "5   {'type': 'Point', 'coordinates': [-122.2509915...                 7   \n",
      "6   {'type': 'Point', 'coordinates': [-122.2581758...                 7   \n",
      "7   {'type': 'Point', 'coordinates': [-122.2524989...                 7   \n",
      "8   {'type': 'Point', 'coordinates': [-122.2696888...                 7   \n",
      "9   {'type': 'Point', 'coordinates': [-122.2516904...                 7   \n",
      "10  {'type': 'Point', 'coordinates': [-122.2511679...                 7   \n",
      "11  {'type': 'Point', 'coordinates': [-122.2584528...                 7   \n",
      "\n",
      "    end_local_dt_hour  end_local_dt_minute  \\\n",
      "0                   0                    0   \n",
      "1                   0                   13   \n",
      "2                   0                   44   \n",
      "3                   2                    7   \n",
      "4                   2                   12   \n",
      "5                   2                   13   \n",
      "6                  13                   11   \n",
      "7                  14                    3   \n",
      "8                  17                   56   \n",
      "9                  19                    2   \n",
      "10                 19                    3   \n",
      "11                 19                   40   \n",
      "\n",
      "                    ...                   start_local_dt_minute  \\\n",
      "0                   ...                                       0   \n",
      "1                   ...                                       5   \n",
      "2                   ...                                      38   \n",
      "3                   ...                                       6   \n",
      "4                   ...                                       7   \n",
      "5                   ...                                      13   \n",
      "6                   ...                                      57   \n",
      "7                   ...                                      57   \n",
      "8                   ...                                      51   \n",
      "9                   ...                                      55   \n",
      "10                  ...                                       3   \n",
      "11                  ...                                      31   \n",
      "\n",
      "    start_local_dt_month start_local_dt_second  start_local_dt_timezone  \\\n",
      "0                     10                    24      America/Los_Angeles   \n",
      "1                     10                     5      America/Los_Angeles   \n",
      "2                     10                    57      America/Los_Angeles   \n",
      "3                     10                    20      America/Los_Angeles   \n",
      "4                     10                    51      America/Los_Angeles   \n",
      "5                     10                    46      America/Los_Angeles   \n",
      "6                     10                    54      America/Los_Angeles   \n",
      "7                     10                     0      America/Los_Angeles   \n",
      "8                     10                    25      America/Los_Angeles   \n",
      "9                     10                    25      America/Los_Angeles   \n",
      "10                    10                    58      America/Los_Angeles   \n",
      "11                    10                    47      America/Los_Angeles   \n",
      "\n",
      "    start_local_dt_weekday start_local_dt_year                start_stop  \\\n",
      "0                        6                2018                       NaN   \n",
      "1                        6                2018  5bc6a2f343de75fa8e9b257f   \n",
      "2                        6                2018                       NaN   \n",
      "3                        6                2018                       NaN   \n",
      "4                        6                2018  5bc6a2f343de75fa8e9b25a4   \n",
      "5                        6                2018  5bc6a2f343de75fa8e9b25a5   \n",
      "6                        6                2018                       NaN   \n",
      "7                        6                2018                       NaN   \n",
      "8                        6                2018                       NaN   \n",
      "9                        6                2018                       NaN   \n",
      "10                       6                2018  5bc6a2f443de75fa8e9b25fb   \n",
      "11                       6                2018                       NaN   \n",
      "\n",
      "        start_ts                   trip_id  \\\n",
      "0   1.538896e+09  5bc6a2f343de75fa8e9b2568   \n",
      "1   1.538896e+09  5bc6a2f343de75fa8e9b2568   \n",
      "2   1.538898e+09  5bc6a2f343de75fa8e9b2581   \n",
      "3   1.538903e+09  5bc6a2f343de75fa8e9b258f   \n",
      "4   1.538903e+09  5bc6a2f343de75fa8e9b258f   \n",
      "5   1.538904e+09  5bc6a2f343de75fa8e9b258f   \n",
      "6   1.538942e+09  5bc6a2f343de75fa8e9b25a6   \n",
      "7   1.538946e+09  5bc6a2f443de75fa8e9b25c6   \n",
      "8   1.538960e+09  5bc6a2f443de75fa8e9b25d9   \n",
      "9   1.538964e+09  5bc6a2f443de75fa8e9b25e7   \n",
      "10  1.538964e+09  5bc6a2f443de75fa8e9b25e7   \n",
      "11  1.538966e+09  5bc6a2f443de75fa8e9b25fc   \n",
      "\n",
      "                                 user_id  \n",
      "0   ddfcca5c-d5c9-43de-8056-c3a2aa27d0a7  \n",
      "1   ddfcca5c-d5c9-43de-8056-c3a2aa27d0a7  \n",
      "2   ddfcca5c-d5c9-43de-8056-c3a2aa27d0a7  \n",
      "3   ddfcca5c-d5c9-43de-8056-c3a2aa27d0a7  \n",
      "4   ddfcca5c-d5c9-43de-8056-c3a2aa27d0a7  \n",
      "5   ddfcca5c-d5c9-43de-8056-c3a2aa27d0a7  \n",
      "6   ddfcca5c-d5c9-43de-8056-c3a2aa27d0a7  \n",
      "7   ddfcca5c-d5c9-43de-8056-c3a2aa27d0a7  \n",
      "8   ddfcca5c-d5c9-43de-8056-c3a2aa27d0a7  \n",
      "9   ddfcca5c-d5c9-43de-8056-c3a2aa27d0a7  \n",
      "10  ddfcca5c-d5c9-43de-8056-c3a2aa27d0a7  \n",
      "11  ddfcca5c-d5c9-43de-8056-c3a2aa27d0a7  \n",
      "\n",
      "[12 rows x 35 columns]\n",
      "Cleaned Trips\n",
      "                        _id     distance    duration  \\\n",
      "0  5bc6a2f343de75fa8e9b2568   482.004233  771.999433   \n",
      "1  5bc6a2f343de75fa8e9b2581   115.642928  303.202600   \n",
      "2  5bc6a2f343de75fa8e9b258f  1431.607183  446.986456   \n",
      "3  5bc6a2f343de75fa8e9b25a6   741.511871  811.454176   \n",
      "4  5bc6a2f443de75fa8e9b25c6   503.981547  401.380139   \n",
      "5  5bc6a2f443de75fa8e9b25d9  1923.151397  320.996800   \n",
      "6  5bc6a2f443de75fa8e9b25e7  2658.184946  513.775929   \n",
      "7  5bc6a2f443de75fa8e9b25fc   652.873191  536.504247   \n",
      "\n",
      "                       end_fmt_time  \\\n",
      "0  2018-10-07T00:13:16.998626-07:00   \n",
      "1  2018-10-07T00:44:00.954806-07:00   \n",
      "2  2018-10-07T02:13:46.996559-07:00   \n",
      "3  2018-10-07T13:11:25.992288-07:00   \n",
      "4  2018-10-07T14:03:41.996415-07:00   \n",
      "5  2018-10-07T17:56:45.998821-07:00   \n",
      "6  2018-10-07T19:03:58.996375-07:00   \n",
      "7  2018-10-07T19:40:43.997208-07:00   \n",
      "\n",
      "                                             end_loc  end_local_dt_day  \\\n",
      "0  {'type': 'Point', 'coordinates': [-122.2511685...                 7   \n",
      "1  {'type': 'Point', 'coordinates': [-122.2512967...                 7   \n",
      "2  {'type': 'Point', 'coordinates': [-122.2509915...                 7   \n",
      "3  {'type': 'Point', 'coordinates': [-122.2581758...                 7   \n",
      "4  {'type': 'Point', 'coordinates': [-122.2524989...                 7   \n",
      "5  {'type': 'Point', 'coordinates': [-122.2696888...                 7   \n",
      "6  {'type': 'Point', 'coordinates': [-122.2511679...                 7   \n",
      "7  {'type': 'Point', 'coordinates': [-122.2584528...                 7   \n",
      "\n",
      "   end_local_dt_hour  end_local_dt_minute  end_local_dt_month  \\\n",
      "0                  0                   13                  10   \n",
      "1                  0                   44                  10   \n",
      "2                  2                   13                  10   \n",
      "3                 13                   11                  10   \n",
      "4                 14                    3                  10   \n",
      "5                 17                   56                  10   \n",
      "6                 19                    3                  10   \n",
      "7                 19                   40                  10   \n",
      "\n",
      "   end_local_dt_second                  ...                   \\\n",
      "0                   16                  ...                    \n",
      "1                    0                  ...                    \n",
      "2                   46                  ...                    \n",
      "3                   25                  ...                    \n",
      "4                   41                  ...                    \n",
      "5                   45                  ...                    \n",
      "6                   58                  ...                    \n",
      "7                   43                  ...                    \n",
      "\n",
      "  start_local_dt_hour  start_local_dt_minute  start_local_dt_month  \\\n",
      "0                   0                      0                    10   \n",
      "1                   0                     38                    10   \n",
      "2                   2                      6                    10   \n",
      "3                  12                     57                    10   \n",
      "4                  13                     57                    10   \n",
      "5                  17                     51                    10   \n",
      "6                  18                     55                    10   \n",
      "7                  19                     31                    10   \n",
      "\n",
      "  start_local_dt_second  start_local_dt_timezone  start_local_dt_weekday  \\\n",
      "0                    24      America/Los_Angeles                       6   \n",
      "1                    57      America/Los_Angeles                       6   \n",
      "2                    20      America/Los_Angeles                       6   \n",
      "3                    54      America/Los_Angeles                       6   \n",
      "4                     0      America/Los_Angeles                       6   \n",
      "5                    25      America/Los_Angeles                       6   \n",
      "6                    25      America/Los_Angeles                       6   \n",
      "7                    47      America/Los_Angeles                       6   \n",
      "\n",
      "  start_local_dt_year               start_place      start_ts  \\\n",
      "0                2018  5bc6a2f443de75fa8e9b2612  1.538896e+09   \n",
      "1                2018  5bc6a2f443de75fa8e9b2614  1.538898e+09   \n",
      "2                2018  5bc6a2f443de75fa8e9b2615  1.538903e+09   \n",
      "3                2018  5bc6a2f443de75fa8e9b2616  1.538942e+09   \n",
      "4                2018  5bc6a2f443de75fa8e9b2617  1.538946e+09   \n",
      "5                2018  5bc6a2f443de75fa8e9b2619  1.538960e+09   \n",
      "6                2018  5bc6a2f443de75fa8e9b261a  1.538964e+09   \n",
      "7                2018  5bc6a2f443de75fa8e9b261b  1.538966e+09   \n",
      "\n",
      "                                user_id  \n",
      "0  ddfcca5c-d5c9-43de-8056-c3a2aa27d0a7  \n",
      "1  ddfcca5c-d5c9-43de-8056-c3a2aa27d0a7  \n",
      "2  ddfcca5c-d5c9-43de-8056-c3a2aa27d0a7  \n",
      "3  ddfcca5c-d5c9-43de-8056-c3a2aa27d0a7  \n",
      "4  ddfcca5c-d5c9-43de-8056-c3a2aa27d0a7  \n",
      "5  ddfcca5c-d5c9-43de-8056-c3a2aa27d0a7  \n",
      "6  ddfcca5c-d5c9-43de-8056-c3a2aa27d0a7  \n",
      "7  ddfcca5c-d5c9-43de-8056-c3a2aa27d0a7  \n",
      "\n",
      "[8 rows x 31 columns]\n"
     ]
    },
    {
     "ename": "KeyError",
     "evalue": "'sensed_mode'",
     "output_type": "error",
     "traceback": [
      "\u001b[0;31m---------------------------------------------------------------------------\u001b[0m",
      "\u001b[0;31mTypeError\u001b[0m                                 Traceback (most recent call last)",
      "\u001b[0;32m/Users/vanessalin/anaconda2/envs/emission/lib/python3.6/site-packages/pandas/core/indexes/base.py\u001b[0m in \u001b[0;36mget_value\u001b[0;34m(self, series, key)\u001b[0m\n\u001b[1;32m   2433\u001b[0m             \u001b[0;32mtry\u001b[0m\u001b[0;34m:\u001b[0m\u001b[0;34m\u001b[0m\u001b[0m\n\u001b[0;32m-> 2434\u001b[0;31m                 \u001b[0;32mreturn\u001b[0m \u001b[0mlibts\u001b[0m\u001b[0;34m.\u001b[0m\u001b[0mget_value_box\u001b[0m\u001b[0;34m(\u001b[0m\u001b[0ms\u001b[0m\u001b[0;34m,\u001b[0m \u001b[0mkey\u001b[0m\u001b[0;34m)\u001b[0m\u001b[0;34m\u001b[0m\u001b[0m\n\u001b[0m\u001b[1;32m   2435\u001b[0m             \u001b[0;32mexcept\u001b[0m \u001b[0mIndexError\u001b[0m\u001b[0;34m:\u001b[0m\u001b[0;34m\u001b[0m\u001b[0m\n",
      "\u001b[0;32mpandas/_libs/tslib.pyx\u001b[0m in \u001b[0;36mpandas._libs.tslib.get_value_box (pandas/_libs/tslib.c:18843)\u001b[0;34m()\u001b[0m\n",
      "\u001b[0;32mpandas/_libs/tslib.pyx\u001b[0m in \u001b[0;36mpandas._libs.tslib.get_value_box (pandas/_libs/tslib.c:18477)\u001b[0;34m()\u001b[0m\n",
      "\u001b[0;31mTypeError\u001b[0m: 'str' object cannot be interpreted as an integer",
      "\nDuring handling of the above exception, another exception occurred:\n",
      "\u001b[0;31mKeyError\u001b[0m                                  Traceback (most recent call last)",
      "\u001b[0;32m<ipython-input-8-eab052f6823f>\u001b[0m in \u001b[0;36m<module>\u001b[0;34m()\u001b[0m\n\u001b[0;32m----> 1\u001b[0;31m \u001b[0mprint\u001b[0m\u001b[0;34m(\u001b[0m\u001b[0msug\u001b[0m\u001b[0;34m.\u001b[0m\u001b[0mcalculate_yelp_server_suggestion\u001b[0m\u001b[0;34m(\u001b[0m\u001b[0mUUID\u001b[0m\u001b[0;34m(\u001b[0m\u001b[0;34m'ddfcca5c-d5c9-43de-8056-c3a2aa27d0a7'\u001b[0m\u001b[0;34m)\u001b[0m\u001b[0;34m)\u001b[0m\u001b[0;34m)\u001b[0m\u001b[0;34m\u001b[0m\u001b[0m\n\u001b[0m",
      "\u001b[0;32m/Users/vanessalin/Desktop/e-mission-server/emission/core/wrapper/suggestion_sys.py\u001b[0m in \u001b[0;36mcalculate_yelp_server_suggestion\u001b[0;34m(uuid)\u001b[0m\n\u001b[1;32m    331\u001b[0m         \u001b[0;31m#Change distance in meters to miles\u001b[0m\u001b[0;34m\u001b[0m\u001b[0;34m\u001b[0m\u001b[0m\n\u001b[1;32m    332\u001b[0m         \u001b[0mdistance_in_miles\u001b[0m \u001b[0;34m=\u001b[0m \u001b[0mcleaned_sections\u001b[0m\u001b[0;34m.\u001b[0m\u001b[0miloc\u001b[0m\u001b[0;34m[\u001b[0m\u001b[0mi\u001b[0m\u001b[0;34m]\u001b[0m\u001b[0;34m[\u001b[0m\u001b[0;34m\"distance\"\u001b[0m\u001b[0;34m]\u001b[0m \u001b[0;34m*\u001b[0m \u001b[0;36m0.000621371\u001b[0m\u001b[0;34m\u001b[0m\u001b[0m\n\u001b[0;32m--> 333\u001b[0;31m         \u001b[0mmode\u001b[0m \u001b[0;34m=\u001b[0m \u001b[0mcleaned_sections\u001b[0m\u001b[0;34m.\u001b[0m\u001b[0miloc\u001b[0m\u001b[0;34m[\u001b[0m\u001b[0mi\u001b[0m\u001b[0;34m]\u001b[0m\u001b[0;34m[\u001b[0m\u001b[0;34m\"sensed_mode\"\u001b[0m\u001b[0;34m]\u001b[0m\u001b[0;34m\u001b[0m\u001b[0m\n\u001b[0m\u001b[1;32m    334\u001b[0m         \u001b[0mstart_loc\u001b[0m \u001b[0;34m=\u001b[0m \u001b[0mcleaned_sections\u001b[0m\u001b[0;34m.\u001b[0m\u001b[0miloc\u001b[0m\u001b[0;34m[\u001b[0m\u001b[0mi\u001b[0m\u001b[0;34m]\u001b[0m\u001b[0;34m[\u001b[0m\u001b[0;34m\"start_loc\"\u001b[0m\u001b[0;34m]\u001b[0m\u001b[0;34m[\u001b[0m\u001b[0;34m\"coordinates\"\u001b[0m\u001b[0;34m]\u001b[0m\u001b[0;34m\u001b[0m\u001b[0m\n\u001b[1;32m    335\u001b[0m         \u001b[0mstart_lon\u001b[0m \u001b[0;34m=\u001b[0m \u001b[0mstr\u001b[0m\u001b[0;34m(\u001b[0m\u001b[0mstart_loc\u001b[0m\u001b[0;34m[\u001b[0m\u001b[0;36m0\u001b[0m\u001b[0;34m]\u001b[0m\u001b[0;34m)\u001b[0m\u001b[0;34m\u001b[0m\u001b[0m\n",
      "\u001b[0;32m/Users/vanessalin/anaconda2/envs/emission/lib/python3.6/site-packages/pandas/core/series.py\u001b[0m in \u001b[0;36m__getitem__\u001b[0;34m(self, key)\u001b[0m\n\u001b[1;32m    599\u001b[0m         \u001b[0mkey\u001b[0m \u001b[0;34m=\u001b[0m \u001b[0mcom\u001b[0m\u001b[0;34m.\u001b[0m\u001b[0m_apply_if_callable\u001b[0m\u001b[0;34m(\u001b[0m\u001b[0mkey\u001b[0m\u001b[0;34m,\u001b[0m \u001b[0mself\u001b[0m\u001b[0;34m)\u001b[0m\u001b[0;34m\u001b[0m\u001b[0m\n\u001b[1;32m    600\u001b[0m         \u001b[0;32mtry\u001b[0m\u001b[0;34m:\u001b[0m\u001b[0;34m\u001b[0m\u001b[0m\n\u001b[0;32m--> 601\u001b[0;31m             \u001b[0mresult\u001b[0m \u001b[0;34m=\u001b[0m \u001b[0mself\u001b[0m\u001b[0;34m.\u001b[0m\u001b[0mindex\u001b[0m\u001b[0;34m.\u001b[0m\u001b[0mget_value\u001b[0m\u001b[0;34m(\u001b[0m\u001b[0mself\u001b[0m\u001b[0;34m,\u001b[0m \u001b[0mkey\u001b[0m\u001b[0;34m)\u001b[0m\u001b[0;34m\u001b[0m\u001b[0m\n\u001b[0m\u001b[1;32m    602\u001b[0m \u001b[0;34m\u001b[0m\u001b[0m\n\u001b[1;32m    603\u001b[0m             \u001b[0;32mif\u001b[0m \u001b[0;32mnot\u001b[0m \u001b[0mis_scalar\u001b[0m\u001b[0;34m(\u001b[0m\u001b[0mresult\u001b[0m\u001b[0;34m)\u001b[0m\u001b[0;34m:\u001b[0m\u001b[0;34m\u001b[0m\u001b[0m\n",
      "\u001b[0;32m/Users/vanessalin/anaconda2/envs/emission/lib/python3.6/site-packages/pandas/core/indexes/base.py\u001b[0m in \u001b[0;36mget_value\u001b[0;34m(self, series, key)\u001b[0m\n\u001b[1;32m   2440\u001b[0m                     \u001b[0;32mraise\u001b[0m \u001b[0mInvalidIndexError\u001b[0m\u001b[0;34m(\u001b[0m\u001b[0mkey\u001b[0m\u001b[0;34m)\u001b[0m\u001b[0;34m\u001b[0m\u001b[0m\n\u001b[1;32m   2441\u001b[0m                 \u001b[0;32melse\u001b[0m\u001b[0;34m:\u001b[0m\u001b[0;34m\u001b[0m\u001b[0m\n\u001b[0;32m-> 2442\u001b[0;31m                     \u001b[0;32mraise\u001b[0m \u001b[0me1\u001b[0m\u001b[0;34m\u001b[0m\u001b[0m\n\u001b[0m\u001b[1;32m   2443\u001b[0m             \u001b[0;32mexcept\u001b[0m \u001b[0mException\u001b[0m\u001b[0;34m:\u001b[0m  \u001b[0;31m# pragma: no cover\u001b[0m\u001b[0;34m\u001b[0m\u001b[0m\n\u001b[1;32m   2444\u001b[0m                 \u001b[0;32mraise\u001b[0m \u001b[0me1\u001b[0m\u001b[0;34m\u001b[0m\u001b[0m\n",
      "\u001b[0;32m/Users/vanessalin/anaconda2/envs/emission/lib/python3.6/site-packages/pandas/core/indexes/base.py\u001b[0m in \u001b[0;36mget_value\u001b[0;34m(self, series, key)\u001b[0m\n\u001b[1;32m   2426\u001b[0m         \u001b[0;32mtry\u001b[0m\u001b[0;34m:\u001b[0m\u001b[0;34m\u001b[0m\u001b[0m\n\u001b[1;32m   2427\u001b[0m             return self._engine.get_value(s, k,\n\u001b[0;32m-> 2428\u001b[0;31m                                           tz=getattr(series.dtype, 'tz', None))\n\u001b[0m\u001b[1;32m   2429\u001b[0m         \u001b[0;32mexcept\u001b[0m \u001b[0mKeyError\u001b[0m \u001b[0;32mas\u001b[0m \u001b[0me1\u001b[0m\u001b[0;34m:\u001b[0m\u001b[0;34m\u001b[0m\u001b[0m\n\u001b[1;32m   2430\u001b[0m             \u001b[0;32mif\u001b[0m \u001b[0mlen\u001b[0m\u001b[0;34m(\u001b[0m\u001b[0mself\u001b[0m\u001b[0;34m)\u001b[0m \u001b[0;34m>\u001b[0m \u001b[0;36m0\u001b[0m \u001b[0;32mand\u001b[0m \u001b[0mself\u001b[0m\u001b[0;34m.\u001b[0m\u001b[0minferred_type\u001b[0m \u001b[0;32min\u001b[0m \u001b[0;34m[\u001b[0m\u001b[0;34m'integer'\u001b[0m\u001b[0;34m,\u001b[0m \u001b[0;34m'boolean'\u001b[0m\u001b[0;34m]\u001b[0m\u001b[0;34m:\u001b[0m\u001b[0;34m\u001b[0m\u001b[0m\n",
      "\u001b[0;32mpandas/_libs/index.pyx\u001b[0m in \u001b[0;36mpandas._libs.index.IndexEngine.get_value (pandas/_libs/index.c:4363)\u001b[0;34m()\u001b[0m\n",
      "\u001b[0;32mpandas/_libs/index.pyx\u001b[0m in \u001b[0;36mpandas._libs.index.IndexEngine.get_value (pandas/_libs/index.c:4046)\u001b[0;34m()\u001b[0m\n",
      "\u001b[0;32mpandas/_libs/index.pyx\u001b[0m in \u001b[0;36mpandas._libs.index.IndexEngine.get_loc (pandas/_libs/index.c:5085)\u001b[0;34m()\u001b[0m\n",
      "\u001b[0;32mpandas/_libs/hashtable_class_helper.pxi\u001b[0m in \u001b[0;36mpandas._libs.hashtable.PyObjectHashTable.get_item (pandas/_libs/hashtable.c:20405)\u001b[0;34m()\u001b[0m\n",
      "\u001b[0;32mpandas/_libs/hashtable_class_helper.pxi\u001b[0m in \u001b[0;36mpandas._libs.hashtable.PyObjectHashTable.get_item (pandas/_libs/hashtable.c:20359)\u001b[0;34m()\u001b[0m\n",
      "\u001b[0;31mKeyError\u001b[0m: 'sensed_mode'"
     ]
    }
   ],
   "source": [
    "print(sug.calculate_yelp_server_suggestion(UUID('ddfcca5c-d5c9-43de-8056-c3a2aa27d0a7')))"
   ]
  },
  {
   "cell_type": "code",
   "execution_count": null,
   "metadata": {},
   "outputs": [],
   "source": [
    "print(sug.calculate_yelp_server_suggestion(UUID('7a0359dc-a208-4224-9a1e-441224860927')))"
   ]
  },
  {
   "cell_type": "code",
   "execution_count": null,
   "metadata": {
    "collapsed": true
   },
   "outputs": [],
   "source": []
  },
  {
   "cell_type": "code",
   "execution_count": null,
   "metadata": {
    "collapsed": true
   },
   "outputs": [],
   "source": [
    "# Get all cleaned trips for the second user\n",
    "entry_it = ts_2.find_entries([\"analysis/cleaned_trip\"], time_query=None)"
   ]
  },
  {
   "cell_type": "code",
   "execution_count": null,
   "metadata": {
    "collapsed": true
   },
   "outputs": [],
   "source": [
    "for ct in entry_it:\n",
    "    cte = ecwe.Entry(ct)\n",
    "    print(\"=== Trip:\", cte.data.start_loc, \"->\", cte.data.end_loc)\n",
    "    section_it = esdt.get_sections_for_trip(\"analysis/cleaned_section\", test_user_id, cte.get_id())\n",
    "    for sec in section_it:\n",
    "        print(\"  --- Section:\", sec.data.start_loc, \"->\", sec.data.end_loc, \" on \", sec.data.sensed_mode)"
   ]
  },
  {
   "cell_type": "code",
   "execution_count": null,
   "metadata": {
    "collapsed": true
   },
   "outputs": [],
   "source": [
    "# Get cleaned trips for the two users that started on 1st Aug UTC\n",
    "import arrow\n",
    "\n",
    "aug_1_tq = estt.TimeQuery(\"data.start_ts\",\n",
    "                          arrow.get(\"2017-08-01\").timestamp, # start of range\n",
    "                          arrow.get(\"2017-08-02\").timestamp)  # end of range\n",
    "entry_it = ts.find_entries([\"analysis/cleaned_trip\"], time_query=aug_1_tq)\n",
    "entry_it_2 = ts_2.find_entries([\"analysis/cleaned_trip\"], time_query=aug_1_tq)\n",
    "print(\"From %s -> %s, user %s had %d trips and user %s had %d trips\" %\n",
    "     (aug_1_tq.startTs, aug_1_tq.endTs, test_user_id, len(list(entry_it)), test_user_id_2, len(list(entry_it_2))))"
   ]
  },
  {
   "cell_type": "markdown",
   "metadata": {},
   "source": [
    "#### Accessing a dataframe"
   ]
  },
  {
   "cell_type": "code",
   "execution_count": null,
   "metadata": {
    "collapsed": true
   },
   "outputs": [],
   "source": [
    "# Get all cleaned trips for the first user\n",
    "ct_df = ts.get_data_df(\"analysis/cleaned_trip\", time_query=None)"
   ]
  },
  {
   "cell_type": "code",
   "execution_count": null,
   "metadata": {
    "collapsed": true
   },
   "outputs": [],
   "source": [
    "len(ct_df)"
   ]
  },
  {
   "cell_type": "code",
   "execution_count": null,
   "metadata": {
    "collapsed": true
   },
   "outputs": [],
   "source": [
    "ct_df.columns"
   ]
  },
  {
   "cell_type": "code",
   "execution_count": null,
   "metadata": {
    "collapsed": true
   },
   "outputs": [],
   "source": [
    "ct_df[[\"start_loc\", \"end_loc\", \"start_fmt_time\", \"end_fmt_time\"]]"
   ]
  },
  {
   "cell_type": "code",
   "execution_count": null,
   "metadata": {
    "collapsed": true
   },
   "outputs": [],
   "source": [
    "# Get all cleaned trips for the second user\n",
    "ct_df_2 = ts_2.get_data_df(\"analysis/cleaned_trip\", time_query=None)\n",
    "ct_df_2[[\"start_loc\", \"end_loc\", \"start_ts\", \"end_ts\"]]"
   ]
  },
  {
   "cell_type": "code",
   "execution_count": null,
   "metadata": {
    "collapsed": true
   },
   "outputs": [],
   "source": [
    "# Get cleaned trips for the two users that started on 1st Aug UTC\n",
    "import arrow\n",
    "\n",
    "aug_1_tq = estt.TimeQuery(\"data.start_ts\",\n",
    "                          arrow.get(\"2017-08-01\").timestamp, # start of range\n",
    "                          arrow.get(\"2017-08-02\").timestamp)  # end of range\n",
    "ct_df = ts.get_data_df(\"analysis/cleaned_trip\", time_query=aug_1_tq)\n",
    "ct_df_2 = ts_2.get_data_df(\"analysis/cleaned_trip\", time_query=aug_1_tq)\n",
    "print(\"From %s -> %s, user %s had %d trips and user %s had %d trips\" %\n",
    "     (aug_1_tq.startTs, aug_1_tq.endTs, test_user_id, len(ct_df), test_user_id_2, len(ct_df_2)))"
   ]
  },
  {
   "cell_type": "code",
   "execution_count": null,
   "metadata": {
    "collapsed": true
   },
   "outputs": [],
   "source": [
    "cs_df = ts.get_data_df(\"analysis/cleaned_section\", time_query=None)"
   ]
  },
  {
   "cell_type": "code",
   "execution_count": null,
   "metadata": {
    "collapsed": true
   },
   "outputs": [],
   "source": [
    "len(cs_df)"
   ]
  },
  {
   "cell_type": "code",
   "execution_count": null,
   "metadata": {
    "collapsed": true
   },
   "outputs": [],
   "source": [
    "cs_df.columns"
   ]
  },
  {
   "cell_type": "code",
   "execution_count": null,
   "metadata": {
    "collapsed": true
   },
   "outputs": [],
   "source": [
    "cs_df[[\"start_loc\", \"end_loc\", \"start_ts\", \"end_ts\", \"sensed_mode\"]]"
   ]
  },
  {
   "cell_type": "markdown",
   "metadata": {},
   "source": [
    "### Direct mongodb queries"
   ]
  },
  {
   "cell_type": "markdown",
   "metadata": {},
   "source": [
    "You can also use direct mongodb queries during exploratory work. I do ask that you create a storage decorator (`emission/storage/decorations`) when you submit a pull request for ongoing use"
   ]
  },
  {
   "cell_type": "code",
   "execution_count": null,
   "metadata": {
    "collapsed": true
   },
   "outputs": [],
   "source": [
    "import emission.core.get_database as edb"
   ]
  },
  {
   "cell_type": "code",
   "execution_count": null,
   "metadata": {
    "collapsed": true
   },
   "outputs": [],
   "source": [
    "edb.get_timeseries_db().find_one()"
   ]
  },
  {
   "cell_type": "code",
   "execution_count": null,
   "metadata": {
    "collapsed": true
   },
   "outputs": [],
   "source": [
    "edb.get_timeseries_db().distinct(\"metadata.key\")"
   ]
  },
  {
   "cell_type": "markdown",
   "metadata": {},
   "source": [
    "Note that in this case, you need to know whether to use the `timeseries` or the `analysis_timeseries` collection"
   ]
  },
  {
   "cell_type": "code",
   "execution_count": null,
   "metadata": {
    "collapsed": true
   },
   "outputs": [],
   "source": [
    "edb.get_analysis_timeseries_db().distinct(\"metadata.key\")"
   ]
  },
  {
   "cell_type": "code",
   "execution_count": null,
   "metadata": {
    "collapsed": true
   },
   "outputs": [],
   "source": [
    "edb.get_analysis_timeseries_db().find({\"user_id\": test_user_id, \"metadata.key\": \"analysis/cleaned_trip\"}).count()"
   ]
  },
  {
   "cell_type": "markdown",
   "metadata": {},
   "source": [
    "In particular, you can use this to access entries that are not in the timeseries"
   ]
  },
  {
   "cell_type": "code",
   "execution_count": null,
   "metadata": {
    "collapsed": true
   },
   "outputs": [],
   "source": [
    "edb.get_uuid_db().distinct(\"uuid\")"
   ]
  },
  {
   "cell_type": "markdown",
   "metadata": {},
   "source": [
    "### Timeline"
   ]
  },
  {
   "cell_type": "markdown",
   "metadata": {},
   "source": [
    "The trips and places maintain links to each other - e.g. `start_place`, `end_place`"
   ]
  },
  {
   "cell_type": "code",
   "execution_count": null,
   "metadata": {
    "collapsed": true
   },
   "outputs": [],
   "source": [
    "ct_df[[\"start_place\", \"end_place\"]]"
   ]
  },
  {
   "cell_type": "markdown",
   "metadata": {},
   "source": [
    "These are _primary key links_ to other entries in the database. It would be useful to have a doubly linked list representing this properly. The Timeline helps with that."
   ]
  },
  {
   "cell_type": "code",
   "execution_count": null,
   "metadata": {
    "collapsed": true
   },
   "outputs": [],
   "source": [
    "import emission.storage.decorations.timeline as esdl"
   ]
  },
  {
   "cell_type": "code",
   "execution_count": null,
   "metadata": {
    "collapsed": true
   },
   "outputs": [],
   "source": [
    "trip_start_end_fuzz = 10 # seconds\n",
    "ct_df = ts.get_data_df(\"analysis/cleaned_trip\", time_query=None)\n",
    "tl = esdl.get_cleaned_timeline(test_user_id, ct_df.iloc[0].start_ts - trip_start_end_fuzz, ct_df.iloc[-1].end_ts + trip_start_end_fuzz)"
   ]
  },
  {
   "cell_type": "code",
   "execution_count": null,
   "metadata": {
    "collapsed": true
   },
   "outputs": [],
   "source": [
    "for e in tl:\n",
    "    if 'enter_ts' in e.data:\n",
    "        # Must be place-like\n",
    "        print(e.metadata.key, e.data.enter_fmt_time, \"->\", e.data.exit_fmt_time)\n",
    "    else:\n",
    "        print(e.metadata.key, e.data.start_fmt_time, \"->\", e.data.end_fmt_time)"
   ]
  },
  {
   "cell_type": "code",
   "execution_count": null,
   "metadata": {
    "collapsed": true
   },
   "outputs": [],
   "source": [
    "# The timeline is an iterator, so after it is consumed, it is empty\n",
    "for e in tl:\n",
    "    if 'enter_ts' in e.data:\n",
    "        # Must be place-like\n",
    "        print(e.metadata.key, e.data.enter_fmt_time, \"->\", e.data.exit_fmt_time)\n",
    "    else:\n",
    "        print(e.metadata.key, e.data.start_fmt_time, \"->\", e.data.end_fmt_time)"
   ]
  },
  {
   "cell_type": "code",
   "execution_count": null,
   "metadata": {
    "collapsed": true
   },
   "outputs": [],
   "source": [
    "stl = esdt.get_cleaned_timeline_for_trip(test_user_id, tl.first_trip().get_id())"
   ]
  },
  {
   "cell_type": "code",
   "execution_count": null,
   "metadata": {
    "collapsed": true
   },
   "outputs": [],
   "source": [
    "for e in stl:\n",
    "    print(e.metadata.key)"
   ]
  },
  {
   "cell_type": "code",
   "execution_count": null,
   "metadata": {
    "collapsed": true
   },
   "outputs": [],
   "source": [
    "stl = esdt.get_cleaned_timeline_for_trip(test_user_id, tl.last_trip().get_id())"
   ]
  },
  {
   "cell_type": "code",
   "execution_count": null,
   "metadata": {
    "collapsed": true
   },
   "outputs": [],
   "source": [
    "for e in stl:\n",
    "    print(e.metadata.key)"
   ]
  },
  {
   "cell_type": "markdown",
   "metadata": {
    "collapsed": true
   },
   "source": [
    "## Getting trip and section details ##"
   ]
  },
  {
   "cell_type": "markdown",
   "metadata": {},
   "source": [
    "Once we have trip and section objects, we can retrieve the sensed data associated with them by querying for data in various streams that falls within the time ranges associated with the trip/section. Here again, our architecture of storing the analysis results as a separate datastream makes it easy to retrieve data at various levels of processing."
   ]
  },
  {
   "cell_type": "markdown",
   "metadata": {},
   "source": [
    "### Plot a processed trip or set of trips ###"
   ]
  },
  {
   "cell_type": "code",
   "execution_count": null,
   "metadata": {
    "collapsed": true
   },
   "outputs": [],
   "source": [
    "import emission.analysis.plotting.geojson.geojson_feature_converter as gfc\n",
    "import emission.analysis.plotting.leaflet_osm.our_plotter as lo"
   ]
  },
  {
   "cell_type": "code",
   "execution_count": null,
   "metadata": {
    "collapsed": true
   },
   "outputs": [],
   "source": [
    "first_trip_for_user = ct_df.iloc[0]\n",
    "first_trip_start_ts = first_trip_for_user.start_ts\n",
    "first_trip_end_ts = first_trip_for_user.end_ts\n",
    "trip_start_end_fuzz = 10 # seconds\n",
    "trips_geojson_list = gfc.get_geojson_for_ts(test_user_id, first_trip_start_ts-trip_start_end_fuzz, ct_df.iloc[-1].end_ts+trip_start_end_fuzz)"
   ]
  },
  {
   "cell_type": "code",
   "execution_count": null,
   "metadata": {
    "collapsed": true,
    "scrolled": true
   },
   "outputs": [],
   "source": [
    "len(trips_geojson_list)"
   ]
  },
  {
   "cell_type": "code",
   "execution_count": null,
   "metadata": {
    "collapsed": true
   },
   "outputs": [],
   "source": [
    "map_list = lo.get_maps_for_geojson_trip_list(trips_geojson_list)"
   ]
  },
  {
   "cell_type": "code",
   "execution_count": null,
   "metadata": {
    "collapsed": true
   },
   "outputs": [],
   "source": [
    "len(map_list)"
   ]
  },
  {
   "cell_type": "code",
   "execution_count": null,
   "metadata": {
    "collapsed": true
   },
   "outputs": [],
   "source": [
    "map_list[0]"
   ]
  },
  {
   "cell_type": "code",
   "execution_count": null,
   "metadata": {
    "collapsed": true
   },
   "outputs": [],
   "source": [
    "map_list[-1]"
   ]
  },
  {
   "cell_type": "code",
   "execution_count": null,
   "metadata": {
    "collapsed": true
   },
   "outputs": [],
   "source": [
    "import branca.element as bre"
   ]
  },
  {
   "cell_type": "code",
   "execution_count": null,
   "metadata": {
    "collapsed": true
   },
   "outputs": [],
   "source": [
    "nrows = 2\n",
    "ncols = 3\n",
    "fig = bre.Figure()\n",
    "for i, m in enumerate(map_list[:6]):\n",
    "    fig.add_subplot(nrows,ncols,i+1).add_child(m)\n",
    "fig"
   ]
  },
  {
   "cell_type": "code",
   "execution_count": null,
   "metadata": {
    "collapsed": true
   },
   "outputs": [],
   "source": [
    "nrows = 2\n",
    "ncols = 3\n",
    "fig = bre.Figure()\n",
    "for i, map in enumerate(map_list[-6:]):\n",
    "    fig.add_subplot(nrows,ncols,i+1).add_child(map)\n",
    "fig"
   ]
  },
  {
   "cell_type": "markdown",
   "metadata": {},
   "source": [
    "## Can you do better? ##"
   ]
  },
  {
   "cell_type": "markdown",
   "metadata": {},
   "source": [
    "\n",
    "### Get locations with no processing, basic filtering and resampling for the first trip ###"
   ]
  },
  {
   "cell_type": "code",
   "execution_count": null,
   "metadata": {
    "collapsed": true
   },
   "outputs": [],
   "source": [
    "all_locs = ts.get_data_df(\"background/location\",\n",
    "                               time_query = esda.get_time_query_for_trip_like(\n",
    "                                   \"analysis/cleaned_section\", ct_df.iloc[0]._id))\n",
    "\n",
    "filtered_locs = ts.get_data_df(\"background/filtered_location\",\n",
    "                               time_query = esda.get_time_query_for_trip_like(\n",
    "                                   \"analysis/cleaned_section\", ct_df.iloc[0]._id))\n",
    "\n",
    "resampled_locs = ts.get_data_df(\"analysis/recreated_location\",\n",
    "                                 time_query = esda.get_time_query_for_trip_like(\n",
    "                                   \"analysis/cleaned_section\", ct_df.iloc[0]._id))\n",
    "print(\"Locations go from all = %d -> filtered = %d -> resampled = %d\" % (len(all_locs),\n",
    "                                                                         len(filtered_locs),\n",
    "                                                                         len(resampled_locs)))"
   ]
  },
  {
   "cell_type": "code",
   "execution_count": null,
   "metadata": {
    "collapsed": true
   },
   "outputs": [],
   "source": [
    "all_locs[[\"_id\", \"latitude\", \"longitude\", \"fmt_time\"]]"
   ]
  },
  {
   "cell_type": "markdown",
   "metadata": {},
   "source": [
    "### Get the raw motion activity, in case you want to do different segmentation ###"
   ]
  },
  {
   "cell_type": "code",
   "execution_count": null,
   "metadata": {
    "collapsed": true
   },
   "outputs": [],
   "source": [
    "all_activity = ts.get_data_df(\"background/motion_activity\",\n",
    "                               esda.get_time_query_for_trip_like(\n",
    "                                   \"analysis/cleaned_section\", ct_df.iloc[0]._id))"
   ]
  },
  {
   "cell_type": "code",
   "execution_count": null,
   "metadata": {
    "collapsed": true
   },
   "outputs": [],
   "source": [
    "all_activity.columns"
   ]
  },
  {
   "cell_type": "code",
   "execution_count": null,
   "metadata": {
    "collapsed": true
   },
   "outputs": [],
   "source": [
    "import emission.core.wrapper.motionactivity as ecwm\n",
    "\n",
    "print(\"Found %d walking entries, %d on_foot entries\" % (len(all_activity[all_activity.type == ecwm.MotionTypes.WALKING.value]), \n",
    "                                    len(all_activity[all_activity.type == ecwm.MotionTypes.ON_FOOT.value])))\n",
    "print(\"Found %d motorized entries\" % (len(all_activity[all_activity.type == ecwm.MotionTypes.IN_VEHICLE.value])))"
   ]
  },
  {
   "cell_type": "markdown",
   "metadata": {},
   "source": [
    "### Plot the location points ###"
   ]
  },
  {
   "cell_type": "code",
   "execution_count": null,
   "metadata": {
    "collapsed": true
   },
   "outputs": [],
   "source": [
    "map_list = lo.get_maps_for_geojson_unsectioned([gfc.get_feature_list_from_df(all_locs),\n",
    "                                                gfc.get_feature_list_from_df(filtered_locs),\n",
    "                                                gfc.get_feature_list_from_df(resampled_locs)])"
   ]
  },
  {
   "cell_type": "code",
   "execution_count": null,
   "metadata": {
    "collapsed": true
   },
   "outputs": [],
   "source": [
    "fig = bre.Figure()\n",
    "for i, map in enumerate(map_list):\n",
    "    fig.add_subplot(1,3,i+1).add_child(map)\n",
    "fig"
   ]
  },
  {
   "cell_type": "code",
   "execution_count": null,
   "metadata": {
    "collapsed": true
   },
   "outputs": [],
   "source": []
  }
 ],
 "metadata": {
  "kernelspec": {
   "display_name": "Python 3",
   "language": "python",
   "name": "python3"
  },
  "language_info": {
   "codemirror_mode": {
    "name": "ipython",
    "version": 3
   },
   "file_extension": ".py",
   "mimetype": "text/x-python",
   "name": "python",
   "nbconvert_exporter": "python",
   "pygments_lexer": "ipython3",
   "version": "3.6.1"
  }
 },
 "nbformat": 4,
 "nbformat_minor": 1
}
